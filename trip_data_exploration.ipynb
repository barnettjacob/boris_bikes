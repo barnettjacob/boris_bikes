{
 "cells": [
  {
   "cell_type": "markdown",
   "metadata": {},
   "source": [
    "# Exploratory Analysis of Boris Bike trip data"
   ]
  },
  {
   "cell_type": "markdown",
   "metadata": {},
   "source": [
    "**Import Libraries and Data and do quick inspection**"
   ]
  },
  {
   "cell_type": "code",
   "execution_count": null,
   "metadata": {
    "collapsed": false
   },
   "outputs": [],
   "source": [
    "import pandas as pd\n",
    "import matplotlib.pyplot as plt\n",
    "import numpy as np\n",
    "import seaborn as sns\n",
    "\n",
    "sns.set_style(\"darkgrid\")\n",
    "%pylab inline"
   ]
  },
  {
   "cell_type": "code",
   "execution_count": null,
   "metadata": {
    "collapsed": false
   },
   "outputs": [],
   "source": [
    "data = pd.read_hdf('ride_data.hdf', 'df', encoding = 'utf-8')\n",
    "data.head()"
   ]
  },
  {
   "cell_type": "code",
   "execution_count": null,
   "metadata": {
    "collapsed": false
   },
   "outputs": [],
   "source": [
    "print data.dtypes\n",
    "print data.shape"
   ]
  },
  {
   "cell_type": "markdown",
   "metadata": {},
   "source": [
    "**Filter out some records with obviously oncorrect dates and set index on start_time**"
   ]
  },
  {
   "cell_type": "code",
   "execution_count": null,
   "metadata": {
    "collapsed": true
   },
   "outputs": [],
   "source": [
    "data = data[data.start_time >= '2010-01-01']\n",
    "data = data[data.end_time >= '2010-01-01']\n",
    "data = data.set_index('start_time')\n",
    "data = data.sort_index()"
   ]
  },
  {
   "cell_type": "markdown",
   "metadata": {},
   "source": [
    "**Function to help plotting**"
   ]
  },
  {
   "cell_type": "code",
   "execution_count": null,
   "metadata": {
    "collapsed": false
   },
   "outputs": [],
   "source": [
    "def plot_rides(type = 'd', start = '2012-01-01', end = '2017-01-01', title = None):\n",
    "    \n",
    "    grouping = {'d':'Day', 'h':'Hour', 'hm':'Hour / Minute', 'dh':'Day / Hour', 'dhm':'Day / Hour / Minute'}\n",
    "    \n",
    "    plt.figure(figsize=(15, 5))\n",
    "    plot_data = data.ix[start:end]\n",
    "    if type == 'd':\n",
    "        plot_data.groupby(plot_data.index.date).count()['rental_id'].plot()\n",
    "    elif type == 'h':\n",
    "        plot_data.groupby(plot_data.index.hour).count()['rental_id'].plot()\n",
    "    elif type == 'hm':\n",
    "        plot_data.groupby([plot_data.index.hour, plot_data.index.minute]).count()['rental_id'].plot()\n",
    "    elif type == 'dh':\n",
    "        plot_data.groupby([plot_data.index.date, plot_data.index.hour]).count()['rental_id'].plot()\n",
    "    elif type == 'dhm':\n",
    "        plot_data.groupby([plot_data.index.date, plot_data.index.hour, plot_data.index.minute]).count()['rental_id'].plot()\n",
    "    else:\n",
    "        print 'incorrect grouping passed!'\n",
    "    if title == None:\n",
    "        title = 'Rides by ' + grouping[type] + ' ' + start + ' to ' + end \n",
    "        plt.suptitle(title, fontsize=20)\n",
    "    else:\n",
    "        plt.suptitle(title, fontsize=20)"
   ]
  },
  {
   "cell_type": "code",
   "execution_count": null,
   "metadata": {
    "collapsed": false
   },
   "outputs": [],
   "source": [
    "plot_rides(title = 'Rides by Day')"
   ]
  },
  {
   "cell_type": "markdown",
   "metadata": {},
   "source": [
    "Find the biggest spike. Turns out that it's not bad data but the day of a [Tube Strike](http://www.standard.co.uk/news/london/boris-bike-use-at-twice-normal-level-as-londoners-seek-to-avoid-the-tube-strike-10378279.html)"
   ]
  },
  {
   "cell_type": "code",
   "execution_count": null,
   "metadata": {
    "collapsed": false
   },
   "outputs": [],
   "source": [
    "by_date = data.groupby(data.index.date).count()['rental_id']\n",
    "by_date[by_date == by_date.max()]"
   ]
  },
  {
   "cell_type": "markdown",
   "metadata": {},
   "source": [
    "**Look at some of the low values, below are the 20 lowest recorded**"
   ]
  },
  {
   "cell_type": "code",
   "execution_count": null,
   "metadata": {
    "collapsed": false
   },
   "outputs": [],
   "source": [
    "by_date.sort_values().head(n = 20)"
   ]
  },
  {
   "cell_type": "markdown",
   "metadata": {},
   "source": [
    "The 25th of August 2014 sticks out as a bit of an obvious day to investigate further given that most of the others seem to be around Christmas whereas over the Summer period, you would expect usage to be more consistent."
   ]
  },
  {
   "cell_type": "code",
   "execution_count": null,
   "metadata": {
    "collapsed": false,
    "scrolled": true
   },
   "outputs": [],
   "source": [
    "plot_rides('hm', '2014-08-25','2014-08-25')"
   ]
  },
  {
   "cell_type": "markdown",
   "metadata": {},
   "source": [
    "This pattern is clearly different to the prior week's data both in shape and magnitude! A quick check of the calendar reveals the reason - [Bank Holiday Monday](https://en.wikipedia.org/wiki/Bank_holiday)"
   ]
  },
  {
   "cell_type": "code",
   "execution_count": null,
   "metadata": {
    "collapsed": false
   },
   "outputs": [],
   "source": [
    "plot_rides('hm', '2014-08-18', '2014-08-18')"
   ]
  },
  {
   "cell_type": "markdown",
   "metadata": {},
   "source": [
    "**Add some station data**"
   ]
  },
  {
   "cell_type": "code",
   "execution_count": null,
   "metadata": {
    "collapsed": false
   },
   "outputs": [],
   "source": [
    "q = pd.DataFrame(data.reset_index().groupby(['start_id', 'end_id']).count()['rental_id']).reset_index()"
   ]
  },
  {
   "cell_type": "code",
   "execution_count": null,
   "metadata": {
    "collapsed": false
   },
   "outputs": [],
   "source": [
    "q.groupby(['first', 'last']).sum().sort('rental_id', ascending = 0)"
   ]
  },
  {
   "cell_type": "code",
   "execution_count": null,
   "metadata": {
    "collapsed": true
   },
   "outputs": [],
   "source": [
    "stations = pd.read_csv('stations.csv')"
   ]
  },
  {
   "cell_type": "code",
   "execution_count": null,
   "metadata": {
    "collapsed": false
   },
   "outputs": [],
   "source": [
    "data.groupby('start_id').count().sort('rental_id', ascending = 0)"
   ]
  },
  {
   "cell_type": "code",
   "execution_count": null,
   "metadata": {
    "collapsed": true
   },
   "outputs": [],
   "source": [
    "data.to_csv('ride_data.csv', sep=',', index=False)"
   ]
  }
 ],
 "metadata": {
  "kernelspec": {
   "display_name": "Python 2",
   "language": "python",
   "name": "python2"
  },
  "language_info": {
   "codemirror_mode": {
    "name": "ipython",
    "version": 2
   },
   "file_extension": ".py",
   "mimetype": "text/x-python",
   "name": "python",
   "nbconvert_exporter": "python",
   "pygments_lexer": "ipython2",
   "version": "2.7.11"
  }
 },
 "nbformat": 4,
 "nbformat_minor": 0
}
