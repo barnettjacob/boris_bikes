{
 "cells": [
  {
   "cell_type": "code",
   "execution_count": 6,
   "metadata": {
    "collapsed": false
   },
   "outputs": [],
   "source": [
    "import requests\n",
    "import MySQLdb\n",
    "import datetime\n",
    "import time\n",
    "import pandas as pd\n",
    "import xml.etree.ElementTree as ET\n",
    "from ConfigParser import ConfigParser\n",
    "\n",
    "#get xml from url and turn into tree\n",
    "url = 'https://tfl.gov.uk/tfl/syndication/feeds/cycle-hire/livecyclehireupdates.xml'\n",
    "r = requests.get(url)\n",
    "r = r.text\n",
    "root = ET.fromstring(r)\n",
    "\n",
    "#get time from xml root\n",
    "timestamp = float(root.attrib['lastUpdate'])\n",
    "timestamp = time.strftime(\"%Y-%m-%d %H:%M:%S\", time.gmtime(timestamp / 1000.0))\n",
    "\n",
    "#parse data from tree\n",
    "list = []\n",
    "for child in root:\n",
    "    list.append([item.text for item in child])\n",
    "\n",
    "#convert to dataframe and give columns names\n",
    "g = pd.DataFrame(list)\n",
    "g.columns = ['station_id', 'name', 'terminalName', 'lat', 'long', 'installed', 'locked', 'install_date', 'removal_date', 'temporary', 'nb_bikes', 'nb_empty_docks', 'nb_docks']"
   ]
  },
  {
   "cell_type": "code",
   "execution_count": 7,
   "metadata": {
    "collapsed": false
   },
   "outputs": [],
   "source": [
    "output = g[['station_id', 'name', 'terminalName', 'lat', 'long', 'installed', 'locked', 'install_date', 'removal_date', 'temporary', 'nb_docks']]"
   ]
  },
  {
   "cell_type": "code",
   "execution_count": 8,
   "metadata": {
    "collapsed": false
   },
   "outputs": [
    {
     "name": "stderr",
     "output_type": "stream",
     "text": [
      "/home/jb/anaconda/lib/python2.7/site-packages/ipykernel/__main__.py:1: SettingWithCopyWarning: \n",
      "A value is trying to be set on a copy of a slice from a DataFrame.\n",
      "Try using .loc[row_indexer,col_indexer] = value instead\n",
      "\n",
      "See the caveats in the documentation: http://pandas.pydata.org/pandas-docs/stable/indexing.html#indexing-view-versus-copy\n",
      "  if __name__ == '__main__':\n",
      "/home/jb/anaconda/lib/python2.7/site-packages/ipykernel/__main__.py:2: SettingWithCopyWarning: \n",
      "A value is trying to be set on a copy of a slice from a DataFrame.\n",
      "Try using .loc[row_indexer,col_indexer] = value instead\n",
      "\n",
      "See the caveats in the documentation: http://pandas.pydata.org/pandas-docs/stable/indexing.html#indexing-view-versus-copy\n",
      "  from ipykernel import kernelapp as app\n"
     ]
    }
   ],
   "source": [
    "output['install_date'] = pd.to_datetime(pd.to_numeric(output.install_date, errors='ignore') * 1000000)\n",
    "output['removal_date'] = pd.to_datetime(pd.to_numeric(output.removal_date, errors='ignore') * 1000000)"
   ]
  },
  {
   "cell_type": "code",
   "execution_count": 4,
   "metadata": {
    "collapsed": false
   },
   "outputs": [],
   "source": [
    "output.to_csv('stations.csv', sep = ',', index = False)"
   ]
  },
  {
   "cell_type": "code",
   "execution_count": 11,
   "metadata": {
    "collapsed": false
   },
   "outputs": [
    {
     "data": {
      "text/html": [
       "<div>\n",
       "<table border=\"1\" class=\"dataframe\">\n",
       "  <thead>\n",
       "    <tr style=\"text-align: right;\">\n",
       "      <th></th>\n",
       "      <th>station_id</th>\n",
       "      <th>name</th>\n",
       "      <th>terminalName</th>\n",
       "      <th>lat</th>\n",
       "      <th>long</th>\n",
       "      <th>installed</th>\n",
       "      <th>locked</th>\n",
       "      <th>install_date</th>\n",
       "      <th>removal_date</th>\n",
       "      <th>temporary</th>\n",
       "      <th>nb_docks</th>\n",
       "    </tr>\n",
       "  </thead>\n",
       "  <tbody>\n",
       "    <tr>\n",
       "      <th>0</th>\n",
       "      <td>1</td>\n",
       "      <td>River Street , Clerkenwell</td>\n",
       "      <td>001023</td>\n",
       "      <td>51.52916347</td>\n",
       "      <td>-0.109970527</td>\n",
       "      <td>true</td>\n",
       "      <td>false</td>\n",
       "      <td>2010-07-12 15:08:00</td>\n",
       "      <td>NaT</td>\n",
       "      <td>false</td>\n",
       "      <td>19</td>\n",
       "    </tr>\n",
       "    <tr>\n",
       "      <th>1</th>\n",
       "      <td>2</td>\n",
       "      <td>Phillimore Gardens, Kensington</td>\n",
       "      <td>001018</td>\n",
       "      <td>51.49960695</td>\n",
       "      <td>-0.197574246</td>\n",
       "      <td>true</td>\n",
       "      <td>false</td>\n",
       "      <td>2010-07-08 10:43:00</td>\n",
       "      <td>NaT</td>\n",
       "      <td>false</td>\n",
       "      <td>37</td>\n",
       "    </tr>\n",
       "    <tr>\n",
       "      <th>2</th>\n",
       "      <td>3</td>\n",
       "      <td>Christopher Street, Liverpool Street</td>\n",
       "      <td>001012</td>\n",
       "      <td>51.52128377</td>\n",
       "      <td>-0.084605692</td>\n",
       "      <td>true</td>\n",
       "      <td>false</td>\n",
       "      <td>2010-07-04 10:46:00</td>\n",
       "      <td>NaT</td>\n",
       "      <td>false</td>\n",
       "      <td>32</td>\n",
       "    </tr>\n",
       "    <tr>\n",
       "      <th>3</th>\n",
       "      <td>4</td>\n",
       "      <td>St. Chad's Street, King's Cross</td>\n",
       "      <td>001013</td>\n",
       "      <td>51.53005939</td>\n",
       "      <td>-0.120973687</td>\n",
       "      <td>true</td>\n",
       "      <td>false</td>\n",
       "      <td>2010-07-04 10:58:00</td>\n",
       "      <td>NaT</td>\n",
       "      <td>false</td>\n",
       "      <td>23</td>\n",
       "    </tr>\n",
       "    <tr>\n",
       "      <th>4</th>\n",
       "      <td>5</td>\n",
       "      <td>Sedding Street, Sloane Square</td>\n",
       "      <td>003420</td>\n",
       "      <td>51.49313</td>\n",
       "      <td>-0.156876</td>\n",
       "      <td>true</td>\n",
       "      <td>false</td>\n",
       "      <td>2010-07-04 11:04:00</td>\n",
       "      <td>NaT</td>\n",
       "      <td>false</td>\n",
       "      <td>27</td>\n",
       "    </tr>\n",
       "  </tbody>\n",
       "</table>\n",
       "</div>"
      ],
      "text/plain": [
       "  station_id                                  name terminalName          lat  \\\n",
       "0          1            River Street , Clerkenwell       001023  51.52916347   \n",
       "1          2        Phillimore Gardens, Kensington       001018  51.49960695   \n",
       "2          3  Christopher Street, Liverpool Street       001012  51.52128377   \n",
       "3          4       St. Chad's Street, King's Cross       001013  51.53005939   \n",
       "4          5         Sedding Street, Sloane Square       003420     51.49313   \n",
       "\n",
       "           long installed locked        install_date removal_date temporary  \\\n",
       "0  -0.109970527      true  false 2010-07-12 15:08:00          NaT     false   \n",
       "1  -0.197574246      true  false 2010-07-08 10:43:00          NaT     false   \n",
       "2  -0.084605692      true  false 2010-07-04 10:46:00          NaT     false   \n",
       "3  -0.120973687      true  false 2010-07-04 10:58:00          NaT     false   \n",
       "4     -0.156876      true  false 2010-07-04 11:04:00          NaT     false   \n",
       "\n",
       "  nb_docks  \n",
       "0       19  \n",
       "1       37  \n",
       "2       32  \n",
       "3       23  \n",
       "4       27  "
      ]
     },
     "execution_count": 11,
     "metadata": {},
     "output_type": "execute_result"
    }
   ],
   "source": [
    "output.head()"
   ]
  }
 ],
 "metadata": {
  "kernelspec": {
   "display_name": "Python 2",
   "language": "python",
   "name": "python2"
  },
  "language_info": {
   "codemirror_mode": {
    "name": "ipython",
    "version": 2
   },
   "file_extension": ".py",
   "mimetype": "text/x-python",
   "name": "python",
   "nbconvert_exporter": "python",
   "pygments_lexer": "ipython2",
   "version": "2.7.11"
  }
 },
 "nbformat": 4,
 "nbformat_minor": 0
}
