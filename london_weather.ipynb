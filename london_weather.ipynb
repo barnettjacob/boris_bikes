{
 "cells": [
  {
   "cell_type": "markdown",
   "metadata": {},
   "source": [
    "## test"
   ]
  },
  {
   "cell_type": "markdown",
   "metadata": {},
   "source": [
    "### yet another test"
   ]
  },
  {
   "cell_type": "code",
   "execution_count": 2,
   "metadata": {
    "collapsed": true
   },
   "outputs": [],
   "source": [
    "import datetime\n",
    "import pandas as pd\n",
    "import forecastio\n",
    "import getpass"
   ]
  },
  {
   "cell_type": "code",
   "execution_count": 6,
   "metadata": {
    "collapsed": false
   },
   "outputs": [],
   "source": [
    "api_key = getpass.getpass()"
   ]
  },
  {
   "cell_type": "code",
   "execution_count": 7,
   "metadata": {
    "collapsed": true
   },
   "outputs": [],
   "source": [
    "date = datetime.datetime(2015,1,1)\n",
    "lat = 51.50722\n",
    "lng = -0.12750"
   ]
  },
  {
   "cell_type": "code",
   "execution_count": 18,
   "metadata": {
    "collapsed": false
   },
   "outputs": [
    {
     "data": {
      "text/plain": [
       "[<forecastio.models.ForecastioDataPoint at 0x7f7410ca6fd0>,\n",
       " <forecastio.models.ForecastioDataPoint at 0x7f7410ca6a10>,\n",
       " <forecastio.models.ForecastioDataPoint at 0x7f7410ca6ad0>,\n",
       " <forecastio.models.ForecastioDataPoint at 0x7f7410c51a50>,\n",
       " <forecastio.models.ForecastioDataPoint at 0x7f7410c51f50>,\n",
       " <forecastio.models.ForecastioDataPoint at 0x7f7410c51bd0>,\n",
       " <forecastio.models.ForecastioDataPoint at 0x7f7410c51f90>,\n",
       " <forecastio.models.ForecastioDataPoint at 0x7f7410c51ed0>,\n",
       " <forecastio.models.ForecastioDataPoint at 0x7f7410c7e390>,\n",
       " <forecastio.models.ForecastioDataPoint at 0x7f7410c7ecd0>,\n",
       " <forecastio.models.ForecastioDataPoint at 0x7f7410c7ead0>,\n",
       " <forecastio.models.ForecastioDataPoint at 0x7f7410c7eb10>,\n",
       " <forecastio.models.ForecastioDataPoint at 0x7f7410c7ed90>,\n",
       " <forecastio.models.ForecastioDataPoint at 0x7f7410c7ea50>,\n",
       " <forecastio.models.ForecastioDataPoint at 0x7f7410c7ed50>,\n",
       " <forecastio.models.ForecastioDataPoint at 0x7f7410c7e8d0>,\n",
       " <forecastio.models.ForecastioDataPoint at 0x7f7410c7eb50>,\n",
       " <forecastio.models.ForecastioDataPoint at 0x7f7410c7ed10>,\n",
       " <forecastio.models.ForecastioDataPoint at 0x7f7410c7e610>,\n",
       " <forecastio.models.ForecastioDataPoint at 0x7f7410c7e990>,\n",
       " <forecastio.models.ForecastioDataPoint at 0x7f7410c7e210>,\n",
       " <forecastio.models.ForecastioDataPoint at 0x7f7410c7ea90>,\n",
       " <forecastio.models.ForecastioDataPoint at 0x7f7410c7e490>,\n",
       " <forecastio.models.ForecastioDataPoint at 0x7f7410c7e9d0>]"
      ]
     },
     "execution_count": 18,
     "metadata": {},
     "output_type": "execute_result"
    }
   ],
   "source": [
    "forecast = forecastio.load_forecast(api_key, lat, lng, time=date, units=\"uk2\")\n",
    "hourly = forecast.hourly()\n",
    "hourly.data"
   ]
  },
  {
   "cell_type": "code",
   "execution_count": 17,
   "metadata": {
    "collapsed": false
   },
   "outputs": [
    {
     "data": {
      "text/plain": [
       "{u'apparentTemperature': 10.51,\n",
       " u'cloudCover': 1,\n",
       " u'dewPoint': 7.69,\n",
       " u'humidity': 0.83,\n",
       " u'icon': u'cloudy',\n",
       " u'precipType': u'rain',\n",
       " u'pressure': 1023.94,\n",
       " u'summary': u'Overcast',\n",
       " u'temperature': 10.51,\n",
       " u'time': 1420135200,\n",
       " u'visibility': 11.12,\n",
       " u'windBearing': 215,\n",
       " u'windSpeed': 8.75}"
      ]
     },
     "execution_count": 17,
     "metadata": {},
     "output_type": "execute_result"
    }
   ],
   "source": [
    "hourly.data[18].d"
   ]
  }
 ],
 "metadata": {
  "kernelspec": {
   "display_name": "Python 2",
   "language": "python",
   "name": "python2"
  },
  "language_info": {
   "codemirror_mode": {
    "name": "ipython",
    "version": 2
   },
   "file_extension": ".py",
   "mimetype": "text/x-python",
   "name": "python",
   "nbconvert_exporter": "python",
   "pygments_lexer": "ipython2",
   "version": "2.7.11"
  }
 },
 "nbformat": 4,
 "nbformat_minor": 0
}
